{
 "cells": [
  {
   "cell_type": "markdown",
   "metadata": {},
   "source": [
    "![Welcome](minions-363019__340.jpg)"
   ]
  },
  {
   "cell_type": "markdown",
   "metadata": {},
   "source": [
    "## Final Project Submission\n",
    "\n",
    "Please fill out:\n",
    "* Student name: JOHN MWANGI GIKONYO\n",
    "* Student pace: part time\n"
   ]
  },
  {
   "cell_type": "markdown",
   "metadata": {},
   "source": [
    "## Overview.\n",
    "Microsoft wants to open a new movies studio. My work is to explore current and the well known studios and come up with well informed insights that will help making decisions. I will gather data from different studios, examine those data using data descriptive statistics and visualizations. At the end of this data analysis I will have well detailed report that Microsoft can use to build their new studio. \n"
   ]
  },
  {
   "cell_type": "markdown",
   "metadata": {},
   "source": [
    "## Business Problem\n",
    "Microsoft want to open a movie studio. I have been tasked to provide well informed insights, where Microsoft should give  priority when starting there new venture. Microsoft, being a new venture, should have high quality films for it to be competitive or as well take the highest market share. With this in mind they need knowledge that will assist them achieve their goal. By analyzing the movies that have been most recently watched, i can make recommendations about attributes that Microsoft's movies should have in order to achieve the highest revenue.\n",
    "I have based my analysis on four main factors:\n",
    "\n",
    " * Genre type\n",
    " * Release date\n",
    " * Production House\n",
    " * Runtime minutes\n",
    " * Year of Release\n",
    " * Production Budget\n",
    " \n",
    "The above insights, I believe they will give us the most highly watched and profitable movies."
   ]
  },
  {
   "cell_type": "markdown",
   "metadata": {},
   "source": [
    "### Data Understanding\n",
    "I utilized five data sets provided by this project for my analysis. \n",
    " * Boom movie data\n",
    " * im.db data\n",
    " * rt.movie_info data\n",
    " * tmbd.movies data\n",
    " * tn_movies_budgets data"
   ]
  },
  {
   "cell_type": "code",
   "execution_count": 1,
   "metadata": {},
   "outputs": [],
   "source": [
    "# import libraries\n",
    "import pandas as pd\n",
    "import numpy as np\n",
    "import csv\n",
    "import sqlite3\n",
    "import matplotlib.pyplot as plt\n",
    "pd.options.display.float_format = '{:.2f}'.format\n",
    "import seaborn as sns\n"
   ]
  },
  {
   "cell_type": "code",
   "execution_count": 2,
   "metadata": {},
   "outputs": [
    {
     "data": {
      "text/html": [
       "<div>\n",
       "<style scoped>\n",
       "    .dataframe tbody tr th:only-of-type {\n",
       "        vertical-align: middle;\n",
       "    }\n",
       "\n",
       "    .dataframe tbody tr th {\n",
       "        vertical-align: top;\n",
       "    }\n",
       "\n",
       "    .dataframe thead th {\n",
       "        text-align: right;\n",
       "    }\n",
       "</style>\n",
       "<table border=\"1\" class=\"dataframe\">\n",
       "  <thead>\n",
       "    <tr style=\"text-align: right;\">\n",
       "      <th></th>\n",
       "      <th>id</th>\n",
       "      <th>release_date</th>\n",
       "      <th>movie</th>\n",
       "      <th>production_budget</th>\n",
       "      <th>domestic_gross</th>\n",
       "      <th>worldwide_gross</th>\n",
       "    </tr>\n",
       "  </thead>\n",
       "  <tbody>\n",
       "    <tr>\n",
       "      <th>0</th>\n",
       "      <td>1</td>\n",
       "      <td>Dec 18, 2009</td>\n",
       "      <td>Avatar</td>\n",
       "      <td>$425,000,000</td>\n",
       "      <td>$760,507,625</td>\n",
       "      <td>$2,776,345,279</td>\n",
       "    </tr>\n",
       "    <tr>\n",
       "      <th>1</th>\n",
       "      <td>2</td>\n",
       "      <td>May 20, 2011</td>\n",
       "      <td>Pirates of the Caribbean: On Stranger Tides</td>\n",
       "      <td>$410,600,000</td>\n",
       "      <td>$241,063,875</td>\n",
       "      <td>$1,045,663,875</td>\n",
       "    </tr>\n",
       "    <tr>\n",
       "      <th>2</th>\n",
       "      <td>3</td>\n",
       "      <td>Jun 7, 2019</td>\n",
       "      <td>Dark Phoenix</td>\n",
       "      <td>$350,000,000</td>\n",
       "      <td>$42,762,350</td>\n",
       "      <td>$149,762,350</td>\n",
       "    </tr>\n",
       "    <tr>\n",
       "      <th>3</th>\n",
       "      <td>4</td>\n",
       "      <td>May 1, 2015</td>\n",
       "      <td>Avengers: Age of Ultron</td>\n",
       "      <td>$330,600,000</td>\n",
       "      <td>$459,005,868</td>\n",
       "      <td>$1,403,013,963</td>\n",
       "    </tr>\n",
       "    <tr>\n",
       "      <th>4</th>\n",
       "      <td>5</td>\n",
       "      <td>Dec 15, 2017</td>\n",
       "      <td>Star Wars Ep. VIII: The Last Jedi</td>\n",
       "      <td>$317,000,000</td>\n",
       "      <td>$620,181,382</td>\n",
       "      <td>$1,316,721,747</td>\n",
       "    </tr>\n",
       "  </tbody>\n",
       "</table>\n",
       "</div>"
      ],
      "text/plain": [
       "   id  release_date                                        movie  \\\n",
       "0   1  Dec 18, 2009                                       Avatar   \n",
       "1   2  May 20, 2011  Pirates of the Caribbean: On Stranger Tides   \n",
       "2   3   Jun 7, 2019                                 Dark Phoenix   \n",
       "3   4   May 1, 2015                      Avengers: Age of Ultron   \n",
       "4   5  Dec 15, 2017            Star Wars Ep. VIII: The Last Jedi   \n",
       "\n",
       "  production_budget domestic_gross worldwide_gross  \n",
       "0      $425,000,000   $760,507,625  $2,776,345,279  \n",
       "1      $410,600,000   $241,063,875  $1,045,663,875  \n",
       "2      $350,000,000    $42,762,350    $149,762,350  \n",
       "3      $330,600,000   $459,005,868  $1,403,013,963  \n",
       "4      $317,000,000   $620,181,382  $1,316,721,747  "
      ]
     },
     "execution_count": 2,
     "metadata": {},
     "output_type": "execute_result"
    }
   ],
   "source": [
    "tn_movie = pd.read_csv(\"/home/ict/Downloads/dsc-phase-1-project-v2-4/tn.movie_budgets.csv\")\n",
    "tn_movie.head(5)"
   ]
  },
  {
   "cell_type": "markdown",
   "metadata": {},
   "source": [
    "##### I was curious to check how release date affected the watch."
   ]
  },
  {
   "cell_type": "code",
   "execution_count": 3,
   "metadata": {},
   "outputs": [
    {
     "name": "stderr",
     "output_type": "stream",
     "text": [
      "/snap/jupyter/6/lib/python3.7/site-packages/ipykernel_launcher.py:1: FutureWarning: The default value of regex will change from True to False in a future version. In addition, single character regular expressions will *not* be treated as literal strings when regex=True.\n",
      "  \"\"\"Entry point for launching an IPython kernel.\n"
     ]
    },
    {
     "data": {
      "text/plain": [
       "count        5782.00\n",
       "mean     31587757.10\n",
       "std      41812076.83\n",
       "min          1100.00\n",
       "25%       5000000.00\n",
       "50%      17000000.00\n",
       "75%      40000000.00\n",
       "max     425000000.00\n",
       "Name: production_budget, dtype: float64"
      ]
     },
     "execution_count": 3,
     "metadata": {},
     "output_type": "execute_result"
    }
   ],
   "source": [
    "tn_movie['production_budget'] = tn_movie['production_budget'].str.replace(',', '').str.replace('$', '').astype(int)\n",
    "tn_movie['production_budget'].describe()"
   ]
  },
  {
   "cell_type": "code",
   "execution_count": 4,
   "metadata": {},
   "outputs": [
    {
     "name": "stderr",
     "output_type": "stream",
     "text": [
      "/snap/jupyter/6/lib/python3.7/site-packages/ipykernel_launcher.py:1: FutureWarning: The default value of regex will change from True to False in a future version. In addition, single character regular expressions will *not* be treated as literal strings when regex=True.\n",
      "  \"\"\"Entry point for launching an IPython kernel.\n"
     ]
    },
    {
     "data": {
      "text/plain": [
       "count        5782.00\n",
       "mean     41873326.87\n",
       "std      68240597.36\n",
       "min             0.00\n",
       "25%       1429534.50\n",
       "50%      17225945.00\n",
       "75%      52348661.50\n",
       "max     936662225.00\n",
       "Name: domestic_gross, dtype: float64"
      ]
     },
     "execution_count": 4,
     "metadata": {},
     "output_type": "execute_result"
    }
   ],
   "source": [
    "tn_movie['domestic_gross'] = tn_movie['domestic_gross'].str.replace(',', '').str.replace('$', '').astype(int)\n",
    "tn_movie['domestic_gross'].describe()"
   ]
  },
  {
   "cell_type": "code",
   "execution_count": 5,
   "metadata": {},
   "outputs": [
    {
     "name": "stderr",
     "output_type": "stream",
     "text": [
      "/snap/jupyter/6/lib/python3.7/site-packages/ipykernel_launcher.py:2: FutureWarning: The default value of regex will change from True to False in a future version. In addition, single character regular expressions will *not* be treated as literal strings when regex=True.\n",
      "  \n"
     ]
    },
    {
     "data": {
      "text/plain": [
       "count         5782.00\n",
       "mean      91487460.91\n",
       "std      174719968.78\n",
       "min              0.00\n",
       "25%        4125414.75\n",
       "50%       27984448.50\n",
       "75%       97645836.50\n",
       "max     2776345279.00\n",
       "Name: worldwide_gross, dtype: float64"
      ]
     },
     "execution_count": 5,
     "metadata": {},
     "output_type": "execute_result"
    }
   ],
   "source": [
    "# converting string into integer and then get descriptive statistics\n",
    "tn_movie['worldwide_gross'] = tn_movie['worldwide_gross'].str.replace(',', '').str.replace('$', '').astype(int)\n",
    "tn_movie['worldwide_gross'].describe()"
   ]
  },
  {
   "cell_type": "code",
   "execution_count": 6,
   "metadata": {},
   "outputs": [
    {
     "data": {
      "text/plain": [
       "<AxesSubplot:>"
      ]
     },
     "execution_count": 6,
     "metadata": {},
     "output_type": "execute_result"
    },
    {
     "data": {
      "image/png": "[encoded data removed]",
      "text/plain": [
       "<Figure size 432x288 with 1 Axes>"
      ]
     },
     "metadata": {
      "needs_background": "light"
     },
     "output_type": "display_data"
    }
   ],
   "source": [
    "# convert release date column to datetime values\n",
    "tn_movie['release_date'] = pd.to_datetime(tn_movie['release_date'])\n",
    "# create release month column\n",
    "tn_movie['release_month'] = tn_movie['release_date'].dt.strftime('%B')\n",
    "# plotting graph for release month\n",
    "tn_movie['release_month'].value_counts().plot(kind='bar')"
   ]
  },
  {
   "cell_type": "code",
   "execution_count": 7,
   "metadata": {},
   "outputs": [
    {
     "data": {
      "text/html": [
       "<div>\n",
       "<style scoped>\n",
       "    .dataframe tbody tr th:only-of-type {\n",
       "        vertical-align: middle;\n",
       "    }\n",
       "\n",
       "    .dataframe tbody tr th {\n",
       "        vertical-align: top;\n",
       "    }\n",
       "\n",
       "    .dataframe thead th {\n",
       "        text-align: right;\n",
       "    }\n",
       "</style>\n",
       "<table border=\"1\" class=\"dataframe\">\n",
       "  <thead>\n",
       "    <tr style=\"text-align: right;\">\n",
       "      <th></th>\n",
       "      <th>title</th>\n",
       "      <th>studio</th>\n",
       "      <th>domestic_gross</th>\n",
       "      <th>foreign_gross</th>\n",
       "      <th>year</th>\n",
       "    </tr>\n",
       "  </thead>\n",
       "  <tbody>\n",
       "    <tr>\n",
       "      <th>0</th>\n",
       "      <td>Toy Story 3</td>\n",
       "      <td>BV</td>\n",
       "      <td>415000000.00</td>\n",
       "      <td>652000000</td>\n",
       "      <td>2010</td>\n",
       "    </tr>\n",
       "    <tr>\n",
       "      <th>1</th>\n",
       "      <td>Alice in Wonderland (2010)</td>\n",
       "      <td>BV</td>\n",
       "      <td>334200000.00</td>\n",
       "      <td>691300000</td>\n",
       "      <td>2010</td>\n",
       "    </tr>\n",
       "    <tr>\n",
       "      <th>2</th>\n",
       "      <td>Harry Potter and the Deathly Hallows Part 1</td>\n",
       "      <td>WB</td>\n",
       "      <td>296000000.00</td>\n",
       "      <td>664300000</td>\n",
       "      <td>2010</td>\n",
       "    </tr>\n",
       "    <tr>\n",
       "      <th>3</th>\n",
       "      <td>Inception</td>\n",
       "      <td>WB</td>\n",
       "      <td>292600000.00</td>\n",
       "      <td>535700000</td>\n",
       "      <td>2010</td>\n",
       "    </tr>\n",
       "    <tr>\n",
       "      <th>4</th>\n",
       "      <td>Shrek Forever After</td>\n",
       "      <td>P/DW</td>\n",
       "      <td>238700000.00</td>\n",
       "      <td>513900000</td>\n",
       "      <td>2010</td>\n",
       "    </tr>\n",
       "    <tr>\n",
       "      <th>...</th>\n",
       "      <td>...</td>\n",
       "      <td>...</td>\n",
       "      <td>...</td>\n",
       "      <td>...</td>\n",
       "      <td>...</td>\n",
       "    </tr>\n",
       "    <tr>\n",
       "      <th>3382</th>\n",
       "      <td>The Quake</td>\n",
       "      <td>Magn.</td>\n",
       "      <td>6200.00</td>\n",
       "      <td>NaN</td>\n",
       "      <td>2018</td>\n",
       "    </tr>\n",
       "    <tr>\n",
       "      <th>3383</th>\n",
       "      <td>Edward II (2018 re-release)</td>\n",
       "      <td>FM</td>\n",
       "      <td>4800.00</td>\n",
       "      <td>NaN</td>\n",
       "      <td>2018</td>\n",
       "    </tr>\n",
       "    <tr>\n",
       "      <th>3384</th>\n",
       "      <td>El Pacto</td>\n",
       "      <td>Sony</td>\n",
       "      <td>2500.00</td>\n",
       "      <td>NaN</td>\n",
       "      <td>2018</td>\n",
       "    </tr>\n",
       "    <tr>\n",
       "      <th>3385</th>\n",
       "      <td>The Swan</td>\n",
       "      <td>Synergetic</td>\n",
       "      <td>2400.00</td>\n",
       "      <td>NaN</td>\n",
       "      <td>2018</td>\n",
       "    </tr>\n",
       "    <tr>\n",
       "      <th>3386</th>\n",
       "      <td>An Actor Prepares</td>\n",
       "      <td>Grav.</td>\n",
       "      <td>1700.00</td>\n",
       "      <td>NaN</td>\n",
       "      <td>2018</td>\n",
       "    </tr>\n",
       "  </tbody>\n",
       "</table>\n",
       "<p>3387 rows × 5 columns</p>\n",
       "</div>"
      ],
      "text/plain": [
       "                                            title      studio  domestic_gross  \\\n",
       "0                                     Toy Story 3          BV    415000000.00   \n",
       "1                      Alice in Wonderland (2010)          BV    334200000.00   \n",
       "2     Harry Potter and the Deathly Hallows Part 1          WB    296000000.00   \n",
       "3                                       Inception          WB    292600000.00   \n",
       "4                             Shrek Forever After        P/DW    238700000.00   \n",
       "...                                           ...         ...             ...   \n",
       "3382                                    The Quake       Magn.         6200.00   \n",
       "3383                  Edward II (2018 re-release)          FM         4800.00   \n",
       "3384                                     El Pacto        Sony         2500.00   \n",
       "3385                                     The Swan  Synergetic         2400.00   \n",
       "3386                            An Actor Prepares       Grav.         1700.00   \n",
       "\n",
       "     foreign_gross  year  \n",
       "0        652000000  2010  \n",
       "1        691300000  2010  \n",
       "2        664300000  2010  \n",
       "3        535700000  2010  \n",
       "4        513900000  2010  \n",
       "...            ...   ...  \n",
       "3382           NaN  2018  \n",
       "3383           NaN  2018  \n",
       "3384           NaN  2018  \n",
       "3385           NaN  2018  \n",
       "3386           NaN  2018  \n",
       "\n",
       "[3387 rows x 5 columns]"
      ]
     },
     "execution_count": 7,
     "metadata": {},
     "output_type": "execute_result"
    }
   ],
   "source": [
    "#exploring bom.movie_gross data\n",
    "bom_movie = pd.read_csv(\"/home/ict/python/moringa/projects/Phase1-project/data/bom.movie_gross.csv\")\n",
    "bom_movie"
   ]
  },
  {
   "cell_type": "code",
   "execution_count": 8,
   "metadata": {
    "scrolled": true
   },
   "outputs": [
    {
     "data": {
      "text/plain": [
       "count        3359.00\n",
       "mean     28745845.07\n",
       "std      66982498.24\n",
       "min           100.00\n",
       "25%        120000.00\n",
       "50%       1400000.00\n",
       "75%      27900000.00\n",
       "max     936700000.00\n",
       "Name: domestic_gross, dtype: float64"
      ]
     },
     "execution_count": 8,
     "metadata": {},
     "output_type": "execute_result"
    }
   ],
   "source": [
    "bom_movie['domestic_gross'].describe()"
   ]
  },
  {
   "cell_type": "code",
   "execution_count": 9,
   "metadata": {},
   "outputs": [
    {
     "data": {
      "text/plain": [
       "count        2032.00\n",
       "mean     75057041.63\n",
       "std     137529351.20\n",
       "min           600.00\n",
       "25%       3775000.00\n",
       "50%      18900000.00\n",
       "75%      75050000.00\n",
       "max     960500000.00\n",
       "Name: foreign_gross, dtype: float64"
      ]
     },
     "execution_count": 9,
     "metadata": {},
     "output_type": "execute_result"
    }
   ],
   "source": [
    "# converting string integr and then get descriptive statistics\n",
    "a = bom_movie['foreign_gross'].dropna().reset_index()\n",
    "a['foreign_gross'] = pd.to_numeric(a['foreign_gross'], errors='coerce')\n",
    "a['foreign_gross'].describe()"
   ]
  },
  {
   "cell_type": "markdown",
   "metadata": {},
   "source": [
    "##### I was curious about how the studio impacted the number of watch."
   ]
  },
  {
   "cell_type": "code",
   "execution_count": 10,
   "metadata": {},
   "outputs": [
    {
     "data": {
      "text/plain": [
       "IFC      166\n",
       "Uni.     147\n",
       "WB       140\n",
       "Fox      136\n",
       "Magn.    136\n",
       "SPC      123\n",
       "Sony     110\n",
       "BV       106\n",
       "LGF      103\n",
       "Par.     101\n",
       "Name: studio, dtype: int64"
      ]
     },
     "execution_count": 10,
     "metadata": {},
     "output_type": "execute_result"
    }
   ],
   "source": [
    "bom_movie_studio = bom_movie['studio'].value_counts().head(10)\n",
    "bom_movie_studio"
   ]
  },
  {
   "cell_type": "code",
   "execution_count": 11,
   "metadata": {
    "scrolled": true
   },
   "outputs": [
    {
     "data": {
      "text/plain": [
       "<AxesSubplot:>"
      ]
     },
     "execution_count": 11,
     "metadata": {},
     "output_type": "execute_result"
    },
    {
     "data": {
      "image/png": "[encoded data removed]",
      "text/plain": [
       "<Figure size 432x288 with 1 Axes>"
      ]
     },
     "metadata": {
      "needs_background": "light"
     },
     "output_type": "display_data"
    }
   ],
   "source": [
    "# plotting studio \n",
    "bom_movie['studio'].value_counts().head(10).plot(kind = 'bar')"
   ]
  },
  {
   "cell_type": "code",
   "execution_count": 23,
   "metadata": {},
   "outputs": [
    {
     "data": {
      "text/plain": [
       "2015    450\n",
       "2016    436\n",
       "2012    400\n",
       "2011    399\n",
       "2014    395\n",
       "2013    350\n",
       "2010    328\n",
       "2017    321\n",
       "2018    308\n",
       "Name: year, dtype: int64"
      ]
     },
     "execution_count": 23,
     "metadata": {},
     "output_type": "execute_result"
    }
   ],
   "source": [
    "bom_movie['year'].value_counts().head(10)"
   ]
  },
  {
   "cell_type": "code",
   "execution_count": 24,
   "metadata": {},
   "outputs": [
    {
     "data": {
      "text/html": [
       "<div>\n",
       "<style scoped>\n",
       "    .dataframe tbody tr th:only-of-type {\n",
       "        vertical-align: middle;\n",
       "    }\n",
       "\n",
       "    .dataframe tbody tr th {\n",
       "        vertical-align: top;\n",
       "    }\n",
       "\n",
       "    .dataframe thead th {\n",
       "        text-align: right;\n",
       "    }\n",
       "</style>\n",
       "<table border=\"1\" class=\"dataframe\">\n",
       "  <thead>\n",
       "    <tr style=\"text-align: right;\">\n",
       "      <th></th>\n",
       "      <th>id</th>\n",
       "      <th>synopsis</th>\n",
       "      <th>rating</th>\n",
       "      <th>genre</th>\n",
       "      <th>director</th>\n",
       "      <th>writer</th>\n",
       "      <th>theater_date</th>\n",
       "      <th>dvd_date</th>\n",
       "      <th>currency</th>\n",
       "      <th>box_office</th>\n",
       "      <th>runtime</th>\n",
       "      <th>studio</th>\n",
       "    </tr>\n",
       "  </thead>\n",
       "  <tbody>\n",
       "    <tr>\n",
       "      <th>0</th>\n",
       "      <td>1</td>\n",
       "      <td>This gritty, fast-paced, and innovative police...</td>\n",
       "      <td>R</td>\n",
       "      <td>Action and Adventure|Classics|Drama</td>\n",
       "      <td>William Friedkin</td>\n",
       "      <td>Ernest Tidyman</td>\n",
       "      <td>Oct 9, 1971</td>\n",
       "      <td>Sep 25, 2001</td>\n",
       "      <td>NaN</td>\n",
       "      <td>NaN</td>\n",
       "      <td>104 minutes</td>\n",
       "      <td>NaN</td>\n",
       "    </tr>\n",
       "    <tr>\n",
       "      <th>1</th>\n",
       "      <td>3</td>\n",
       "      <td>New York City, not-too-distant-future: Eric Pa...</td>\n",
       "      <td>R</td>\n",
       "      <td>Drama|Science Fiction and Fantasy</td>\n",
       "      <td>David Cronenberg</td>\n",
       "      <td>David Cronenberg|Don DeLillo</td>\n",
       "      <td>Aug 17, 2012</td>\n",
       "      <td>Jan 1, 2013</td>\n",
       "      <td>$</td>\n",
       "      <td>600,000</td>\n",
       "      <td>108 minutes</td>\n",
       "      <td>Entertainment One</td>\n",
       "    </tr>\n",
       "    <tr>\n",
       "      <th>2</th>\n",
       "      <td>5</td>\n",
       "      <td>Illeana Douglas delivers a superb performance ...</td>\n",
       "      <td>R</td>\n",
       "      <td>Drama|Musical and Performing Arts</td>\n",
       "      <td>Allison Anders</td>\n",
       "      <td>Allison Anders</td>\n",
       "      <td>Sep 13, 1996</td>\n",
       "      <td>Apr 18, 2000</td>\n",
       "      <td>NaN</td>\n",
       "      <td>NaN</td>\n",
       "      <td>116 minutes</td>\n",
       "      <td>NaN</td>\n",
       "    </tr>\n",
       "  </tbody>\n",
       "</table>\n",
       "</div>"
      ],
      "text/plain": [
       "   id                                           synopsis rating  \\\n",
       "0   1  This gritty, fast-paced, and innovative police...      R   \n",
       "1   3  New York City, not-too-distant-future: Eric Pa...      R   \n",
       "2   5  Illeana Douglas delivers a superb performance ...      R   \n",
       "\n",
       "                                 genre          director  \\\n",
       "0  Action and Adventure|Classics|Drama  William Friedkin   \n",
       "1    Drama|Science Fiction and Fantasy  David Cronenberg   \n",
       "2    Drama|Musical and Performing Arts    Allison Anders   \n",
       "\n",
       "                         writer  theater_date      dvd_date currency  \\\n",
       "0                Ernest Tidyman   Oct 9, 1971  Sep 25, 2001      NaN   \n",
       "1  David Cronenberg|Don DeLillo  Aug 17, 2012   Jan 1, 2013        $   \n",
       "2                Allison Anders  Sep 13, 1996  Apr 18, 2000      NaN   \n",
       "\n",
       "  box_office      runtime             studio  \n",
       "0        NaN  104 minutes                NaN  \n",
       "1    600,000  108 minutes  Entertainment One  \n",
       "2        NaN  116 minutes                NaN  "
      ]
     },
     "execution_count": 24,
     "metadata": {},
     "output_type": "execute_result"
    }
   ],
   "source": [
    "rt_reviews = pd.read_csv('/home/ict/python/moringa/projects/Phase1-project/data/rt.movie_info.tsv', sep='\\t')\n",
    "rt_reviews.head(3)"
   ]
  },
  {
   "cell_type": "markdown",
   "metadata": {},
   "source": [
    "#### I wanted to know whether rating impacted the watching."
   ]
  },
  {
   "cell_type": "code",
   "execution_count": 25,
   "metadata": {},
   "outputs": [
    {
     "data": {
      "text/plain": [
       "R        521\n",
       "NR       503\n",
       "PG       240\n",
       "PG-13    235\n",
       "G         57\n",
       "NC17       1\n",
       "Name: rating, dtype: int64"
      ]
     },
     "execution_count": 25,
     "metadata": {},
     "output_type": "execute_result"
    }
   ],
   "source": [
    "rt_reviews['rating'].value_counts()"
   ]
  },
  {
   "cell_type": "code",
   "execution_count": 26,
   "metadata": {
    "scrolled": true
   },
   "outputs": [
    {
     "data": {
      "text/plain": [
       "<AxesSubplot:>"
      ]
     },
     "execution_count": 26,
     "metadata": {},
     "output_type": "execute_result"
    },
    {
     "data": {
      "image/png": "[encoded data removed]",
      "text/plain": [
       "<Figure size 432x288 with 1 Axes>"
      ]
     },
     "metadata": {
      "needs_background": "light"
     },
     "output_type": "display_data"
    }
   ],
   "source": [
    "rt_reviews['rating'].value_counts().plot(kind = 'bar')"
   ]
  },
  {
   "cell_type": "markdown",
   "metadata": {},
   "source": [
    "##### I was also curious and checked whether runtime minutes affected the watch"
   ]
  },
  {
   "cell_type": "code",
   "execution_count": 27,
   "metadata": {},
   "outputs": [
    {
     "data": {
      "text/plain": [
       "90 minutes     72\n",
       "95 minutes     66\n",
       "100 minutes    51\n",
       "93 minutes     47\n",
       "96 minutes     43\n",
       "98 minutes     41\n",
       "91 minutes     40\n",
       "92 minutes     38\n",
       "94 minutes     37\n",
       "105 minutes    36\n",
       "89 minutes     36\n",
       "110 minutes    35\n",
       "104 minutes    35\n",
       "120 minutes    33\n",
       "108 minutes    33\n",
       "85 minutes     32\n",
       "97 minutes     29\n",
       "101 minutes    28\n",
       "99 minutes     28\n",
       "114 minutes    27\n",
       "88 minutes     27\n",
       "103 minutes    26\n",
       "111 minutes    26\n",
       "115 minutes    25\n",
       "102 minutes    25\n",
       "107 minutes    24\n",
       "86 minutes     23\n",
       "106 minutes    23\n",
       "109 minutes    22\n",
       "80 minutes     21\n",
       "Name: runtime, dtype: int64"
      ]
     },
     "execution_count": 27,
     "metadata": {},
     "output_type": "execute_result"
    }
   ],
   "source": [
    "rt_reviews['runtime'].value_counts().head(30)"
   ]
  },
  {
   "cell_type": "markdown",
   "metadata": {},
   "source": [
    "##### I was curious about how the studio impacted the number of watch."
   ]
  },
  {
   "cell_type": "code",
   "execution_count": 53,
   "metadata": {
    "scrolled": true
   },
   "outputs": [
    {
     "data": {
      "text/plain": [
       "<AxesSubplot:>"
      ]
     },
     "execution_count": 53,
     "metadata": {},
     "output_type": "execute_result"
    },
    {
     "data": {
      "image/png": "[encoded data removed]",
      "text/plain": [
       "<Figure size 432x288 with 1 Axes>"
      ]
     },
     "metadata": {
      "needs_background": "light"
     },
     "output_type": "display_data"
    }
   ],
   "source": [
    "rt_reviews['studio'].value_counts().head(10).plot(kind = 'bar')"
   ]
  },
  {
   "cell_type": "markdown",
   "metadata": {},
   "source": [
    "##### I was curious about how the studio impacted the number of watch."
   ]
  },
  {
   "cell_type": "code",
   "execution_count": 62,
   "metadata": {},
   "outputs": [
    {
     "data": {
      "text/plain": [
       "Drama                                                                                     151\n",
       "Comedy                                                                                    110\n",
       "Comedy|Drama                                                                               80\n",
       "Drama|Mystery and Suspense                                                                 67\n",
       "Art House and International|Drama                                                          62\n",
       "                                                                                         ... \n",
       "Art House and International|Drama|Sports and Fitness                                        1\n",
       "Comedy|Documentary|Musical and Performing Arts|Special Interest                             1\n",
       "Comedy|Cult Movies|Mystery and Suspense|Science Fiction and Fantasy                         1\n",
       "Action and Adventure|Art House and International|Mystery and Suspense|Special Interest      1\n",
       "Comedy|Drama|Kids and Family|Sports and Fitness                                             1\n",
       "Name: genre, Length: 299, dtype: int64"
      ]
     },
     "execution_count": 62,
     "metadata": {},
     "output_type": "execute_result"
    }
   ],
   "source": [
    "rt_reviews['genre'].value_counts()"
   ]
  },
  {
   "cell_type": "code",
   "execution_count": 54,
   "metadata": {},
   "outputs": [
    {
     "data": {
      "text/plain": [
       "<AxesSubplot:>"
      ]
     },
     "execution_count": 54,
     "metadata": {},
     "output_type": "execute_result"
    },
    {
     "data": {
      "image/png": "[encoded data removed]",
      "text/plain": [
       "<Figure size 432x288 with 1 Axes>"
      ]
     },
     "metadata": {
      "needs_background": "light"
     },
     "output_type": "display_data"
    }
   ],
   "source": [
    "genre_count.head(10).plot(kind = 'bar')"
   ]
  },
  {
   "cell_type": "code",
   "execution_count": 31,
   "metadata": {},
   "outputs": [
    {
     "data": {
      "text/html": [
       "<div>\n",
       "<style scoped>\n",
       "    .dataframe tbody tr th:only-of-type {\n",
       "        vertical-align: middle;\n",
       "    }\n",
       "\n",
       "    .dataframe tbody tr th {\n",
       "        vertical-align: top;\n",
       "    }\n",
       "\n",
       "    .dataframe thead th {\n",
       "        text-align: right;\n",
       "    }\n",
       "</style>\n",
       "<table border=\"1\" class=\"dataframe\">\n",
       "  <thead>\n",
       "    <tr style=\"text-align: right;\">\n",
       "      <th></th>\n",
       "      <th>Unnamed: 0</th>\n",
       "      <th>genre_ids</th>\n",
       "      <th>id</th>\n",
       "      <th>original_language</th>\n",
       "      <th>original_title</th>\n",
       "      <th>popularity</th>\n",
       "      <th>release_date</th>\n",
       "      <th>title</th>\n",
       "      <th>vote_average</th>\n",
       "      <th>vote_count</th>\n",
       "    </tr>\n",
       "  </thead>\n",
       "  <tbody>\n",
       "    <tr>\n",
       "      <th>22866</th>\n",
       "      <td>22866</td>\n",
       "      <td>[27]</td>\n",
       "      <td>487472</td>\n",
       "      <td>en</td>\n",
       "      <td>Whisper</td>\n",
       "      <td>0.68</td>\n",
       "      <td>2017-10-31</td>\n",
       "      <td>Whisper</td>\n",
       "      <td>6.00</td>\n",
       "      <td>2</td>\n",
       "    </tr>\n",
       "    <tr>\n",
       "      <th>3231</th>\n",
       "      <td>3231</td>\n",
       "      <td>[99, 10402]</td>\n",
       "      <td>79201</td>\n",
       "      <td>en</td>\n",
       "      <td>God Bless Ozzy Osbourne</td>\n",
       "      <td>2.83</td>\n",
       "      <td>2011-04-24</td>\n",
       "      <td>God Bless Ozzy Osbourne</td>\n",
       "      <td>7.00</td>\n",
       "      <td>13</td>\n",
       "    </tr>\n",
       "    <tr>\n",
       "      <th>21820</th>\n",
       "      <td>21820</td>\n",
       "      <td>[28]</td>\n",
       "      <td>455252</td>\n",
       "      <td>en</td>\n",
       "      <td>King Arthur and the Knights of the Round Table</td>\n",
       "      <td>2.11</td>\n",
       "      <td>2017-05-02</td>\n",
       "      <td>King Arthur and the Knights of the Round Table</td>\n",
       "      <td>3.10</td>\n",
       "      <td>8</td>\n",
       "    </tr>\n",
       "    <tr>\n",
       "      <th>23464</th>\n",
       "      <td>23464</td>\n",
       "      <td>[27]</td>\n",
       "      <td>540957</td>\n",
       "      <td>en</td>\n",
       "      <td>The Armoire</td>\n",
       "      <td>0.60</td>\n",
       "      <td>2017-07-01</td>\n",
       "      <td>The Armoire</td>\n",
       "      <td>6.50</td>\n",
       "      <td>2</td>\n",
       "    </tr>\n",
       "    <tr>\n",
       "      <th>11755</th>\n",
       "      <td>11755</td>\n",
       "      <td>[28, 18]</td>\n",
       "      <td>257447</td>\n",
       "      <td>en</td>\n",
       "      <td>Tapped Out</td>\n",
       "      <td>3.73</td>\n",
       "      <td>2014-05-27</td>\n",
       "      <td>Tapped Out</td>\n",
       "      <td>5.80</td>\n",
       "      <td>34</td>\n",
       "    </tr>\n",
       "    <tr>\n",
       "      <th>8384</th>\n",
       "      <td>8384</td>\n",
       "      <td>[18]</td>\n",
       "      <td>179109</td>\n",
       "      <td>fr</td>\n",
       "      <td>Les salauds</td>\n",
       "      <td>5.42</td>\n",
       "      <td>2013-10-06</td>\n",
       "      <td>Bastards</td>\n",
       "      <td>5.90</td>\n",
       "      <td>49</td>\n",
       "    </tr>\n",
       "    <tr>\n",
       "      <th>6528</th>\n",
       "      <td>6528</td>\n",
       "      <td>[]</td>\n",
       "      <td>135698</td>\n",
       "      <td>en</td>\n",
       "      <td>Tyler Perry's I Don't Want to Do Wrong - The Play</td>\n",
       "      <td>1.11</td>\n",
       "      <td>2012-10-23</td>\n",
       "      <td>Tyler Perry's I Don't Want to Do Wrong - The Play</td>\n",
       "      <td>8.50</td>\n",
       "      <td>4</td>\n",
       "    </tr>\n",
       "    <tr>\n",
       "      <th>16447</th>\n",
       "      <td>16447</td>\n",
       "      <td>[35]</td>\n",
       "      <td>318974</td>\n",
       "      <td>en</td>\n",
       "      <td>Ari Shaffir: Paid Regular</td>\n",
       "      <td>0.63</td>\n",
       "      <td>2015-01-13</td>\n",
       "      <td>Ari Shaffir: Paid Regular</td>\n",
       "      <td>7.00</td>\n",
       "      <td>1</td>\n",
       "    </tr>\n",
       "    <tr>\n",
       "      <th>23035</th>\n",
       "      <td>23035</td>\n",
       "      <td>[99, 36, 10770]</td>\n",
       "      <td>580698</td>\n",
       "      <td>en</td>\n",
       "      <td>High Tech Airport</td>\n",
       "      <td>0.64</td>\n",
       "      <td>2017-01-01</td>\n",
       "      <td>High Tech Airport</td>\n",
       "      <td>10.00</td>\n",
       "      <td>1</td>\n",
       "    </tr>\n",
       "    <tr>\n",
       "      <th>13914</th>\n",
       "      <td>13914</td>\n",
       "      <td>[]</td>\n",
       "      <td>302685</td>\n",
       "      <td>en</td>\n",
       "      <td>Abducted by Aliens: UFO Encounters of the 4th ...</td>\n",
       "      <td>0.60</td>\n",
       "      <td>2014-01-14</td>\n",
       "      <td>Abducted by Aliens: UFO Encounters of the 4th ...</td>\n",
       "      <td>5.00</td>\n",
       "      <td>1</td>\n",
       "    </tr>\n",
       "  </tbody>\n",
       "</table>\n",
       "</div>"
      ],
      "text/plain": [
       "       Unnamed: 0        genre_ids      id original_language  \\\n",
       "22866       22866             [27]  487472                en   \n",
       "3231         3231      [99, 10402]   79201                en   \n",
       "21820       21820             [28]  455252                en   \n",
       "23464       23464             [27]  540957                en   \n",
       "11755       11755         [28, 18]  257447                en   \n",
       "8384         8384             [18]  179109                fr   \n",
       "6528         6528               []  135698                en   \n",
       "16447       16447             [35]  318974                en   \n",
       "23035       23035  [99, 36, 10770]  580698                en   \n",
       "13914       13914               []  302685                en   \n",
       "\n",
       "                                          original_title  popularity  \\\n",
       "22866                                            Whisper        0.68   \n",
       "3231                             God Bless Ozzy Osbourne        2.83   \n",
       "21820     King Arthur and the Knights of the Round Table        2.11   \n",
       "23464                                        The Armoire        0.60   \n",
       "11755                                         Tapped Out        3.73   \n",
       "8384                                         Les salauds        5.42   \n",
       "6528   Tyler Perry's I Don't Want to Do Wrong - The Play        1.11   \n",
       "16447                          Ari Shaffir: Paid Regular        0.63   \n",
       "23035                                  High Tech Airport        0.64   \n",
       "13914  Abducted by Aliens: UFO Encounters of the 4th ...        0.60   \n",
       "\n",
       "      release_date                                              title  \\\n",
       "22866   2017-10-31                                            Whisper   \n",
       "3231    2011-04-24                            God Bless Ozzy Osbourne   \n",
       "21820   2017-05-02     King Arthur and the Knights of the Round Table   \n",
       "23464   2017-07-01                                        The Armoire   \n",
       "11755   2014-05-27                                         Tapped Out   \n",
       "8384    2013-10-06                                           Bastards   \n",
       "6528    2012-10-23  Tyler Perry's I Don't Want to Do Wrong - The Play   \n",
       "16447   2015-01-13                          Ari Shaffir: Paid Regular   \n",
       "23035   2017-01-01                                  High Tech Airport   \n",
       "13914   2014-01-14  Abducted by Aliens: UFO Encounters of the 4th ...   \n",
       "\n",
       "       vote_average  vote_count  \n",
       "22866          6.00           2  \n",
       "3231           7.00          13  \n",
       "21820          3.10           8  \n",
       "23464          6.50           2  \n",
       "11755          5.80          34  \n",
       "8384           5.90          49  \n",
       "6528           8.50           4  \n",
       "16447          7.00           1  \n",
       "23035         10.00           1  \n",
       "13914          5.00           1  "
      ]
     },
     "execution_count": 31,
     "metadata": {},
     "output_type": "execute_result"
    }
   ],
   "source": [
    "tmdb_review = pd.read_csv('/home/ict/python/moringa/projects/Phase1-project/data/tmdb.movies.csv', )\n",
    "tmdb_review.sample(10)"
   ]
  },
  {
   "cell_type": "code",
   "execution_count": 32,
   "metadata": {},
   "outputs": [
    {
     "name": "stdout",
     "output_type": "stream",
     "text": [
      "<class 'pandas.core.frame.DataFrame'>\n",
      "RangeIndex: 26517 entries, 0 to 26516\n",
      "Data columns (total 10 columns):\n",
      " #   Column             Non-Null Count  Dtype  \n",
      "---  ------             --------------  -----  \n",
      " 0   Unnamed: 0         26517 non-null  int64  \n",
      " 1   genre_ids          26517 non-null  object \n",
      " 2   id                 26517 non-null  int64  \n",
      " 3   original_language  26517 non-null  object \n",
      " 4   original_title     26517 non-null  object \n",
      " 5   popularity         26517 non-null  float64\n",
      " 6   release_date       26517 non-null  object \n",
      " 7   title              26517 non-null  object \n",
      " 8   vote_average       26517 non-null  float64\n",
      " 9   vote_count         26517 non-null  int64  \n",
      "dtypes: float64(2), int64(3), object(5)\n",
      "memory usage: 2.0+ MB\n"
     ]
    }
   ],
   "source": [
    "tmdb_review.info()"
   ]
  },
  {
   "cell_type": "markdown",
   "metadata": {},
   "source": [
    "I was curious and wanted to know genre id representation and went further to fetch all the information needed.\n",
    "Here is the representation.\n",
    " * MOVIE\n",
    " * Action          28\n",
    " * Adventure       12\n",
    " * Animation       16\n",
    " * Comedy          35\n",
    " * Crime           80\n",
    " * Documentary     99\n",
    " * Drama           18\n",
    " * Family          10751\n",
    " * Fantasy         14\n",
    " * History         36\n",
    " * Horror          27\n",
    " * Music           10402\n",
    " * Mystery         9648\n",
    " * Romance         10749\n",
    " * Science Fiction 878\n",
    " * TV Movie        10770\n",
    " * Thriller        53\n",
    " * War             10752\n",
    " * Western         37"
   ]
  },
  {
   "cell_type": "code",
   "execution_count": 39,
   "metadata": {
    "scrolled": true
   },
   "outputs": [
    {
     "name": "stdout",
     "output_type": "stream",
     "text": [
      "18       8303\n",
      "35       5652\n",
      "99       4965\n",
      "53       4207\n",
      "27       3683\n",
      "28       2612\n",
      "10749    2321\n",
      "878      1762\n",
      "10751    1565\n",
      "80       1515\n",
      "16       1486\n",
      "12       1400\n",
      "10402    1267\n",
      "9648     1237\n",
      "14       1139\n",
      "10770    1084\n",
      "36        622\n",
      "10752     330\n",
      "37        205\n",
      "Name: genre_ids, dtype: int64\n"
     ]
    }
   ],
   "source": [
    "import ast\n",
    "\n",
    "# convert the genre_ids column to list of integers\n",
    "tmdb_review['genre_ids'] = tmdb_review['genre_ids'].apply(lambda x: ast.literal_eval(x) if x != '[]' else [])\n",
    "\n",
    "# explode the genre_ids column\n",
    "tmdb_review = tmdb_review.explode('genre_ids')\n",
    "\n",
    "# count the number of occurrences of each genre id\n",
    "genre_counts = tmdb_review['genre_ids'].value_counts()\n",
    "\n",
    "print(genre_counts)"
   ]
  },
  {
   "cell_type": "markdown",
   "metadata": {},
   "source": [
    "##### From the the above value count i was curious to see visualization on how genre performed."
   ]
  },
  {
   "cell_type": "code",
   "execution_count": 41,
   "metadata": {},
   "outputs": [
    {
     "data": {
      "image/png": "[encoded data removed]",
      "text/plain": [
       "<Figure size 432x288 with 1 Axes>"
      ]
     },
     "metadata": {
      "needs_background": "light"
     },
     "output_type": "display_data"
    }
   ],
   "source": [
    "# define a dictionary to map genre IDs to names\n",
    "genre_dict = {\n",
    "    28: \"Action\",\n",
    "    12: \"Adventure\",\n",
    "    16: \"Animation\",\n",
    "    35: \"Comedy\",\n",
    "    80: \"Crime\",\n",
    "    99: \"Documentary\",\n",
    "    18: \"Drama\",\n",
    "    10751: \"Family\",\n",
    "    14: \"Fantasy\",\n",
    "    36: \"History\",\n",
    "    27: \"Horror\",\n",
    "    10402: \"Music\",\n",
    "    9648: \"Mystery\",\n",
    "    10749: \"Romance\",\n",
    "    878: \"Science Fiction\",\n",
    "    10770: \"TV Movie\",\n",
    "    53: \"Thriller\",\n",
    "    10752: \"War\",\n",
    "    37: \"Western\"\n",
    "}\n",
    "\n",
    "# create a Series with the count of each genre\n",
    "genre_counts = pd.Series({\n",
    "    genre_dict[k]: v for k, v in genre_counts.items()\n",
    "})\n",
    "\n",
    "# plot the bar chart\n",
    "genre_counts.plot(kind=\"bar\")\n",
    "plt.xticks(rotation=90)\n",
    "plt.xlabel(\"Genres\")\n",
    "plt.ylabel(\"Count\")\n",
    "plt.title(\"Genre Distribution in TMDB Movie Dataset\")\n",
    "plt.show()\n"
   ]
  },
  {
   "cell_type": "markdown",
   "metadata": {},
   "source": [
    "#####  I grouped release date the the months to see how it affected the watch."
   ]
  },
  {
   "cell_type": "code",
   "execution_count": 88,
   "metadata": {},
   "outputs": [
    {
     "data": {
      "text/plain": [
       "<AxesSubplot:>"
      ]
     },
     "execution_count": 88,
     "metadata": {},
     "output_type": "execute_result"
    },
    {
     "data": {
      "image/png": "[encoded data removed]",
      "text/plain": [
       "<Figure size 432x288 with 1 Axes>"
      ]
     },
     "metadata": {
      "needs_background": "light"
     },
     "output_type": "display_data"
    }
   ],
   "source": [
    "# convert release date column to datetime values\n",
    "tmdb_review['release_date'] = pd.to_datetime(tmdb_review['release_date'])\n",
    "# create release month column\n",
    "tmdb_review['release_month'] = tmdb_review['release_date'].dt.strftime('%B')\n",
    "tmdb_review['release_month'].value_counts().plot(kind='bar')"
   ]
  },
  {
   "cell_type": "code",
   "execution_count": 35,
   "metadata": {},
   "outputs": [
    {
     "data": {
      "text/plain": [
       "January      3132\n",
       "October      3035\n",
       "April        2566\n",
       "March        2406\n",
       "November     2338\n",
       "September    2264\n",
       "June         2166\n",
       "December     1929\n",
       "May          1865\n",
       "August       1698\n",
       "February     1614\n",
       "July         1504\n",
       "Name: release_month, dtype: int64"
      ]
     },
     "execution_count": 35,
     "metadata": {},
     "output_type": "execute_result"
    }
   ],
   "source": [
    "tmdb_review['release_month'].value_counts().head(30)"
   ]
  },
  {
   "cell_type": "code",
   "execution_count": 42,
   "metadata": {},
   "outputs": [],
   "source": [
    "im_movies = sqlite3.connect('/home/ict/python/moringa/projects/Phase1-project/data/im.db')"
   ]
  },
  {
   "cell_type": "code",
   "execution_count": 43,
   "metadata": {},
   "outputs": [
    {
     "name": "stdout",
     "output_type": "stream",
     "text": [
      "[('movie_basics',), ('directors',), ('known_for',), ('movie_akas',), ('movie_ratings',), ('persons',), ('principals',), ('writers',)]\n"
     ]
    }
   ],
   "source": [
    "cursor = im_movies.cursor()\n",
    "\n",
    "#execute the query to retrieve table names\n",
    "cursor.execute(\"SELECT name FROM sqlite_master WHERE type='table';\")\n",
    "\n",
    "#fetch the results and print them out\n",
    "tables = cursor.fetchall()\n",
    "print(tables)"
   ]
  },
  {
   "cell_type": "code",
   "execution_count": 60,
   "metadata": {},
   "outputs": [],
   "source": [
    "IM_movies_review = pd.read_sql(\"\"\"\n",
    "SELECT * \n",
    "FROM movie_basics\n",
    "JOIN movie_ratings\n",
    "    USING(movie_id);\n",
    "\"\"\", im_movies)"
   ]
  },
  {
   "cell_type": "code",
   "execution_count": 61,
   "metadata": {},
   "outputs": [
    {
     "data": {
      "text/html": [
       "<div>\n",
       "<style scoped>\n",
       "    .dataframe tbody tr th:only-of-type {\n",
       "        vertical-align: middle;\n",
       "    }\n",
       "\n",
       "    .dataframe tbody tr th {\n",
       "        vertical-align: top;\n",
       "    }\n",
       "\n",
       "    .dataframe thead th {\n",
       "        text-align: right;\n",
       "    }\n",
       "</style>\n",
       "<table border=\"1\" class=\"dataframe\">\n",
       "  <thead>\n",
       "    <tr style=\"text-align: right;\">\n",
       "      <th></th>\n",
       "      <th>movie_id</th>\n",
       "      <th>primary_title</th>\n",
       "      <th>original_title</th>\n",
       "      <th>start_year</th>\n",
       "      <th>runtime_minutes</th>\n",
       "      <th>genres</th>\n",
       "      <th>averagerating</th>\n",
       "      <th>numvotes</th>\n",
       "    </tr>\n",
       "  </thead>\n",
       "  <tbody>\n",
       "    <tr>\n",
       "      <th>0</th>\n",
       "      <td>tt0063540</td>\n",
       "      <td>Sunghursh</td>\n",
       "      <td>Sunghursh</td>\n",
       "      <td>2013</td>\n",
       "      <td>175.00</td>\n",
       "      <td>Action,Crime,Drama</td>\n",
       "      <td>7.00</td>\n",
       "      <td>77</td>\n",
       "    </tr>\n",
       "    <tr>\n",
       "      <th>1</th>\n",
       "      <td>tt0066787</td>\n",
       "      <td>One Day Before the Rainy Season</td>\n",
       "      <td>Ashad Ka Ek Din</td>\n",
       "      <td>2019</td>\n",
       "      <td>114.00</td>\n",
       "      <td>Biography,Drama</td>\n",
       "      <td>7.20</td>\n",
       "      <td>43</td>\n",
       "    </tr>\n",
       "    <tr>\n",
       "      <th>2</th>\n",
       "      <td>tt0069049</td>\n",
       "      <td>The Other Side of the Wind</td>\n",
       "      <td>The Other Side of the Wind</td>\n",
       "      <td>2018</td>\n",
       "      <td>122.00</td>\n",
       "      <td>Drama</td>\n",
       "      <td>6.90</td>\n",
       "      <td>4517</td>\n",
       "    </tr>\n",
       "    <tr>\n",
       "      <th>3</th>\n",
       "      <td>tt0069204</td>\n",
       "      <td>Sabse Bada Sukh</td>\n",
       "      <td>Sabse Bada Sukh</td>\n",
       "      <td>2018</td>\n",
       "      <td>NaN</td>\n",
       "      <td>Comedy,Drama</td>\n",
       "      <td>6.10</td>\n",
       "      <td>13</td>\n",
       "    </tr>\n",
       "    <tr>\n",
       "      <th>4</th>\n",
       "      <td>tt0100275</td>\n",
       "      <td>The Wandering Soap Opera</td>\n",
       "      <td>La Telenovela Errante</td>\n",
       "      <td>2017</td>\n",
       "      <td>80.00</td>\n",
       "      <td>Comedy,Drama,Fantasy</td>\n",
       "      <td>6.50</td>\n",
       "      <td>119</td>\n",
       "    </tr>\n",
       "    <tr>\n",
       "      <th>...</th>\n",
       "      <td>...</td>\n",
       "      <td>...</td>\n",
       "      <td>...</td>\n",
       "      <td>...</td>\n",
       "      <td>...</td>\n",
       "      <td>...</td>\n",
       "      <td>...</td>\n",
       "      <td>...</td>\n",
       "    </tr>\n",
       "    <tr>\n",
       "      <th>73851</th>\n",
       "      <td>tt9913084</td>\n",
       "      <td>Diabolik sono io</td>\n",
       "      <td>Diabolik sono io</td>\n",
       "      <td>2019</td>\n",
       "      <td>75.00</td>\n",
       "      <td>Documentary</td>\n",
       "      <td>6.20</td>\n",
       "      <td>6</td>\n",
       "    </tr>\n",
       "    <tr>\n",
       "      <th>73852</th>\n",
       "      <td>tt9914286</td>\n",
       "      <td>Sokagin Çocuklari</td>\n",
       "      <td>Sokagin Çocuklari</td>\n",
       "      <td>2019</td>\n",
       "      <td>98.00</td>\n",
       "      <td>Drama,Family</td>\n",
       "      <td>8.70</td>\n",
       "      <td>136</td>\n",
       "    </tr>\n",
       "    <tr>\n",
       "      <th>73853</th>\n",
       "      <td>tt9914642</td>\n",
       "      <td>Albatross</td>\n",
       "      <td>Albatross</td>\n",
       "      <td>2017</td>\n",
       "      <td>NaN</td>\n",
       "      <td>Documentary</td>\n",
       "      <td>8.50</td>\n",
       "      <td>8</td>\n",
       "    </tr>\n",
       "    <tr>\n",
       "      <th>73854</th>\n",
       "      <td>tt9914942</td>\n",
       "      <td>La vida sense la Sara Amat</td>\n",
       "      <td>La vida sense la Sara Amat</td>\n",
       "      <td>2019</td>\n",
       "      <td>NaN</td>\n",
       "      <td>None</td>\n",
       "      <td>6.60</td>\n",
       "      <td>5</td>\n",
       "    </tr>\n",
       "    <tr>\n",
       "      <th>73855</th>\n",
       "      <td>tt9916160</td>\n",
       "      <td>Drømmeland</td>\n",
       "      <td>Drømmeland</td>\n",
       "      <td>2019</td>\n",
       "      <td>72.00</td>\n",
       "      <td>Documentary</td>\n",
       "      <td>6.50</td>\n",
       "      <td>11</td>\n",
       "    </tr>\n",
       "  </tbody>\n",
       "</table>\n",
       "<p>73856 rows × 8 columns</p>\n",
       "</div>"
      ],
      "text/plain": [
       "        movie_id                    primary_title              original_title  \\\n",
       "0      tt0063540                        Sunghursh                   Sunghursh   \n",
       "1      tt0066787  One Day Before the Rainy Season             Ashad Ka Ek Din   \n",
       "2      tt0069049       The Other Side of the Wind  The Other Side of the Wind   \n",
       "3      tt0069204                  Sabse Bada Sukh             Sabse Bada Sukh   \n",
       "4      tt0100275         The Wandering Soap Opera       La Telenovela Errante   \n",
       "...          ...                              ...                         ...   \n",
       "73851  tt9913084                 Diabolik sono io            Diabolik sono io   \n",
       "73852  tt9914286                Sokagin Çocuklari           Sokagin Çocuklari   \n",
       "73853  tt9914642                        Albatross                   Albatross   \n",
       "73854  tt9914942       La vida sense la Sara Amat  La vida sense la Sara Amat   \n",
       "73855  tt9916160                       Drømmeland                  Drømmeland   \n",
       "\n",
       "       start_year  runtime_minutes                genres  averagerating  \\\n",
       "0            2013           175.00    Action,Crime,Drama           7.00   \n",
       "1            2019           114.00       Biography,Drama           7.20   \n",
       "2            2018           122.00                 Drama           6.90   \n",
       "3            2018              NaN          Comedy,Drama           6.10   \n",
       "4            2017            80.00  Comedy,Drama,Fantasy           6.50   \n",
       "...           ...              ...                   ...            ...   \n",
       "73851        2019            75.00           Documentary           6.20   \n",
       "73852        2019            98.00          Drama,Family           8.70   \n",
       "73853        2017              NaN           Documentary           8.50   \n",
       "73854        2019              NaN                  None           6.60   \n",
       "73855        2019            72.00           Documentary           6.50   \n",
       "\n",
       "       numvotes  \n",
       "0            77  \n",
       "1            43  \n",
       "2          4517  \n",
       "3            13  \n",
       "4           119  \n",
       "...         ...  \n",
       "73851         6  \n",
       "73852       136  \n",
       "73853         8  \n",
       "73854         5  \n",
       "73855        11  \n",
       "\n",
       "[73856 rows x 8 columns]"
      ]
     },
     "execution_count": 61,
     "metadata": {},
     "output_type": "execute_result"
    }
   ],
   "source": [
    "IM_movies_review"
   ]
  },
  {
   "cell_type": "code",
   "execution_count": 46,
   "metadata": {},
   "outputs": [],
   "source": [
    "# IM_movies_review['runtime_minutes'].plot(kind = 'bar')\n",
    "# plt.show()"
   ]
  },
  {
   "cell_type": "code",
   "execution_count": 47,
   "metadata": {},
   "outputs": [
    {
     "data": {
      "text/plain": [
       "90.00     4742\n",
       "80.00     2166\n",
       "85.00     2057\n",
       "100.00    1957\n",
       "95.00     1933\n",
       "93.00     1547\n",
       "88.00     1487\n",
       "92.00     1434\n",
       "87.00     1381\n",
       "94.00     1378\n",
       "86.00     1352\n",
       "75.00     1297\n",
       "98.00     1284\n",
       "91.00     1273\n",
       "96.00     1266\n",
       "82.00     1252\n",
       "89.00     1247\n",
       "97.00     1226\n",
       "84.00     1208\n",
       "105.00    1198\n",
       "83.00     1155\n",
       "110.00    1019\n",
       "70.00      937\n",
       "99.00      907\n",
       "120.00     902\n",
       "102.00     898\n",
       "81.00      886\n",
       "78.00      864\n",
       "104.00     811\n",
       "101.00     789\n",
       "Name: runtime_minutes, dtype: int64"
      ]
     },
     "execution_count": 47,
     "metadata": {},
     "output_type": "execute_result"
    }
   ],
   "source": [
    "IM_movies_review['runtime_minutes'].value_counts().head(30)"
   ]
  },
  {
   "cell_type": "code",
   "execution_count": 48,
   "metadata": {},
   "outputs": [
    {
     "data": {
      "text/plain": [
       "<AxesSubplot:>"
      ]
     },
     "execution_count": 48,
     "metadata": {},
     "output_type": "execute_result"
    },
    {
     "data": {
      "image/png": "[encoded data removed]",
      "text/plain": [
       "<Figure size 432x288 with 1 Axes>"
      ]
     },
     "metadata": {
      "needs_background": "light"
     },
     "output_type": "display_data"
    }
   ],
   "source": [
    "IM_movies_review['runtime_minutes'].value_counts().head(10).plot(kind = 'bar')"
   ]
  },
  {
   "cell_type": "code",
   "execution_count": 49,
   "metadata": {},
   "outputs": [
    {
     "data": {
      "text/plain": [
       "2016    8721\n",
       "2017    8713\n",
       "2015    8494\n",
       "2014    8371\n",
       "2013    7990\n",
       "2012    7680\n",
       "2018    7526\n",
       "2011    7389\n",
       "2010    6792\n",
       "2019    2180\n",
       "Name: start_year, dtype: int64"
      ]
     },
     "execution_count": 49,
     "metadata": {},
     "output_type": "execute_result"
    }
   ],
   "source": [
    "IM_movies_review['start_year'].value_counts()"
   ]
  },
  {
   "cell_type": "code",
   "execution_count": 50,
   "metadata": {},
   "outputs": [
    {
     "data": {
      "text/plain": [
       "<AxesSubplot:>"
      ]
     },
     "execution_count": 50,
     "metadata": {},
     "output_type": "execute_result"
    },
    {
     "data": {
      "image/png": "[encoded data removed]",
      "text/plain": [
       "<Figure size 432x288 with 1 Axes>"
      ]
     },
     "metadata": {
      "needs_background": "light"
     },
     "output_type": "display_data"
    }
   ],
   "source": [
    "IM_movies_review['start_year'].value_counts().plot(kind = 'bar')"
   ]
  },
  {
   "cell_type": "code",
   "execution_count": 51,
   "metadata": {},
   "outputs": [
    {
     "data": {
      "text/plain": [
       "Drama                            11612\n",
       "Documentary                      10313\n",
       "Comedy                            5613\n",
       "Horror                            2692\n",
       "Comedy,Drama                      2617\n",
       "Thriller                          1555\n",
       "Drama,Romance                     1510\n",
       "Comedy,Romance                    1236\n",
       "Comedy,Drama,Romance              1208\n",
       "Horror,Thriller                   1004\n",
       "Drama,Thriller                     990\n",
       "Action                             979\n",
       "Romance                            717\n",
       "Biography,Documentary              694\n",
       "Documentary,Drama                  582\n",
       "Documentary,Music                  579\n",
       "Comedy,Horror                      579\n",
       "Action,Crime,Drama                 562\n",
       "Crime,Drama,Thriller               504\n",
       "Crime,Drama                        494\n",
       "Family                             491\n",
       "Biography,Documentary,History      479\n",
       "Drama,Family                       478\n",
       "Documentary,History                476\n",
       "Action,Drama                       395\n",
       "Horror,Mystery,Thriller            378\n",
       "Biography,Documentary,Drama        377\n",
       "Drama,Horror,Thriller              356\n",
       "Animation                          348\n",
       "Action,Thriller                    345\n",
       "Name: genres, dtype: int64"
      ]
     },
     "execution_count": 51,
     "metadata": {},
     "output_type": "execute_result"
    }
   ],
   "source": [
    "#count of every genre\n",
    "IM_movies_review['genres'].value_counts().head(30)"
   ]
  },
  {
   "cell_type": "code",
   "execution_count": 52,
   "metadata": {},
   "outputs": [
    {
     "data": {
      "text/plain": [
       "<AxesSubplot:>"
      ]
     },
     "execution_count": 52,
     "metadata": {},
     "output_type": "execute_result"
    },
    {
     "data": {
      "image/png": "[encoded data removed]",
      "text/plain": [
       "<Figure size 432x288 with 1 Axes>"
      ]
     },
     "metadata": {
      "needs_background": "light"
     },
     "output_type": "display_data"
    }
   ],
   "source": [
    "#how movies are watched based on genres\n",
    "IM_movies_review['genres'].value_counts().head(30).plot(kind = 'bar')"
   ]
  },
  {
   "cell_type": "code",
   "execution_count": 66,
   "metadata": {},
   "outputs": [
    {
     "data": {
      "text/plain": [
       "(111286, 18)"
      ]
     },
     "execution_count": 66,
     "metadata": {},
     "output_type": "execute_result"
    }
   ],
   "source": [
    "merged_data = pd.merge(IM_movies_review,tmdb_review,how = 'outer')\n",
    "merged_data.shape"
   ]
  },
  {
   "cell_type": "code",
   "execution_count": 67,
   "metadata": {},
   "outputs": [
    {
     "data": {
      "text/html": [
       "<div>\n",
       "<style scoped>\n",
       "    .dataframe tbody tr th:only-of-type {\n",
       "        vertical-align: middle;\n",
       "    }\n",
       "\n",
       "    .dataframe tbody tr th {\n",
       "        vertical-align: top;\n",
       "    }\n",
       "\n",
       "    .dataframe thead th {\n",
       "        text-align: right;\n",
       "    }\n",
       "</style>\n",
       "<table border=\"1\" class=\"dataframe\">\n",
       "  <thead>\n",
       "    <tr style=\"text-align: right;\">\n",
       "      <th></th>\n",
       "      <th>movie_id</th>\n",
       "      <th>primary_title</th>\n",
       "      <th>original_title</th>\n",
       "      <th>start_year</th>\n",
       "      <th>runtime_minutes</th>\n",
       "      <th>genres</th>\n",
       "      <th>averagerating</th>\n",
       "      <th>numvotes</th>\n",
       "      <th>Unnamed: 0</th>\n",
       "      <th>genre_ids</th>\n",
       "      <th>id</th>\n",
       "      <th>original_language</th>\n",
       "      <th>popularity</th>\n",
       "      <th>release_date</th>\n",
       "      <th>title</th>\n",
       "      <th>vote_average</th>\n",
       "      <th>vote_count</th>\n",
       "      <th>release_month</th>\n",
       "    </tr>\n",
       "  </thead>\n",
       "  <tbody>\n",
       "    <tr>\n",
       "      <th>0</th>\n",
       "      <td>tt0063540</td>\n",
       "      <td>Sunghursh</td>\n",
       "      <td>Sunghursh</td>\n",
       "      <td>2013.00</td>\n",
       "      <td>175.00</td>\n",
       "      <td>Action,Crime,Drama</td>\n",
       "      <td>7.00</td>\n",
       "      <td>77.00</td>\n",
       "      <td>NaN</td>\n",
       "      <td>NaN</td>\n",
       "      <td>NaN</td>\n",
       "      <td>NaN</td>\n",
       "      <td>NaN</td>\n",
       "      <td>NaT</td>\n",
       "      <td>NaN</td>\n",
       "      <td>NaN</td>\n",
       "      <td>NaN</td>\n",
       "      <td>NaN</td>\n",
       "    </tr>\n",
       "    <tr>\n",
       "      <th>1</th>\n",
       "      <td>tt0066787</td>\n",
       "      <td>One Day Before the Rainy Season</td>\n",
       "      <td>Ashad Ka Ek Din</td>\n",
       "      <td>2019.00</td>\n",
       "      <td>114.00</td>\n",
       "      <td>Biography,Drama</td>\n",
       "      <td>7.20</td>\n",
       "      <td>43.00</td>\n",
       "      <td>NaN</td>\n",
       "      <td>NaN</td>\n",
       "      <td>NaN</td>\n",
       "      <td>NaN</td>\n",
       "      <td>NaN</td>\n",
       "      <td>NaT</td>\n",
       "      <td>NaN</td>\n",
       "      <td>NaN</td>\n",
       "      <td>NaN</td>\n",
       "      <td>NaN</td>\n",
       "    </tr>\n",
       "    <tr>\n",
       "      <th>2</th>\n",
       "      <td>tt0069049</td>\n",
       "      <td>The Other Side of the Wind</td>\n",
       "      <td>The Other Side of the Wind</td>\n",
       "      <td>2018.00</td>\n",
       "      <td>122.00</td>\n",
       "      <td>Drama</td>\n",
       "      <td>6.90</td>\n",
       "      <td>4517.00</td>\n",
       "      <td>24185.00</td>\n",
       "      <td>35</td>\n",
       "      <td>299782.00</td>\n",
       "      <td>en</td>\n",
       "      <td>9.80</td>\n",
       "      <td>2018-11-02</td>\n",
       "      <td>The Other Side of the Wind</td>\n",
       "      <td>7.00</td>\n",
       "      <td>64.00</td>\n",
       "      <td>November</td>\n",
       "    </tr>\n",
       "    <tr>\n",
       "      <th>3</th>\n",
       "      <td>tt0069049</td>\n",
       "      <td>The Other Side of the Wind</td>\n",
       "      <td>The Other Side of the Wind</td>\n",
       "      <td>2018.00</td>\n",
       "      <td>122.00</td>\n",
       "      <td>Drama</td>\n",
       "      <td>6.90</td>\n",
       "      <td>4517.00</td>\n",
       "      <td>24185.00</td>\n",
       "      <td>18</td>\n",
       "      <td>299782.00</td>\n",
       "      <td>en</td>\n",
       "      <td>9.80</td>\n",
       "      <td>2018-11-02</td>\n",
       "      <td>The Other Side of the Wind</td>\n",
       "      <td>7.00</td>\n",
       "      <td>64.00</td>\n",
       "      <td>November</td>\n",
       "    </tr>\n",
       "    <tr>\n",
       "      <th>4</th>\n",
       "      <td>tt0069204</td>\n",
       "      <td>Sabse Bada Sukh</td>\n",
       "      <td>Sabse Bada Sukh</td>\n",
       "      <td>2018.00</td>\n",
       "      <td>NaN</td>\n",
       "      <td>Comedy,Drama</td>\n",
       "      <td>6.10</td>\n",
       "      <td>13.00</td>\n",
       "      <td>NaN</td>\n",
       "      <td>NaN</td>\n",
       "      <td>NaN</td>\n",
       "      <td>NaN</td>\n",
       "      <td>NaN</td>\n",
       "      <td>NaT</td>\n",
       "      <td>NaN</td>\n",
       "      <td>NaN</td>\n",
       "      <td>NaN</td>\n",
       "      <td>NaN</td>\n",
       "    </tr>\n",
       "    <tr>\n",
       "      <th>...</th>\n",
       "      <td>...</td>\n",
       "      <td>...</td>\n",
       "      <td>...</td>\n",
       "      <td>...</td>\n",
       "      <td>...</td>\n",
       "      <td>...</td>\n",
       "      <td>...</td>\n",
       "      <td>...</td>\n",
       "      <td>...</td>\n",
       "      <td>...</td>\n",
       "      <td>...</td>\n",
       "      <td>...</td>\n",
       "      <td>...</td>\n",
       "      <td>...</td>\n",
       "      <td>...</td>\n",
       "      <td>...</td>\n",
       "      <td>...</td>\n",
       "      <td>...</td>\n",
       "    </tr>\n",
       "    <tr>\n",
       "      <th>111281</th>\n",
       "      <td>NaN</td>\n",
       "      <td>NaN</td>\n",
       "      <td>Jaws</td>\n",
       "      <td>NaN</td>\n",
       "      <td>NaN</td>\n",
       "      <td>NaN</td>\n",
       "      <td>NaN</td>\n",
       "      <td>NaN</td>\n",
       "      <td>26508.00</td>\n",
       "      <td>16</td>\n",
       "      <td>514492.00</td>\n",
       "      <td>en</td>\n",
       "      <td>0.60</td>\n",
       "      <td>2018-05-29</td>\n",
       "      <td>Jaws</td>\n",
       "      <td>0.00</td>\n",
       "      <td>1.00</td>\n",
       "      <td>May</td>\n",
       "    </tr>\n",
       "    <tr>\n",
       "      <th>111282</th>\n",
       "      <td>NaN</td>\n",
       "      <td>NaN</td>\n",
       "      <td>Laboratory Conditions</td>\n",
       "      <td>NaN</td>\n",
       "      <td>NaN</td>\n",
       "      <td>NaN</td>\n",
       "      <td>NaN</td>\n",
       "      <td>NaN</td>\n",
       "      <td>26512.00</td>\n",
       "      <td>27</td>\n",
       "      <td>488143.00</td>\n",
       "      <td>en</td>\n",
       "      <td>0.60</td>\n",
       "      <td>2018-10-13</td>\n",
       "      <td>Laboratory Conditions</td>\n",
       "      <td>0.00</td>\n",
       "      <td>1.00</td>\n",
       "      <td>October</td>\n",
       "    </tr>\n",
       "    <tr>\n",
       "      <th>111283</th>\n",
       "      <td>NaN</td>\n",
       "      <td>NaN</td>\n",
       "      <td>Laboratory Conditions</td>\n",
       "      <td>NaN</td>\n",
       "      <td>NaN</td>\n",
       "      <td>NaN</td>\n",
       "      <td>NaN</td>\n",
       "      <td>NaN</td>\n",
       "      <td>26512.00</td>\n",
       "      <td>18</td>\n",
       "      <td>488143.00</td>\n",
       "      <td>en</td>\n",
       "      <td>0.60</td>\n",
       "      <td>2018-10-13</td>\n",
       "      <td>Laboratory Conditions</td>\n",
       "      <td>0.00</td>\n",
       "      <td>1.00</td>\n",
       "      <td>October</td>\n",
       "    </tr>\n",
       "    <tr>\n",
       "      <th>111284</th>\n",
       "      <td>NaN</td>\n",
       "      <td>NaN</td>\n",
       "      <td>_EXHIBIT_84xxx_</td>\n",
       "      <td>NaN</td>\n",
       "      <td>NaN</td>\n",
       "      <td>NaN</td>\n",
       "      <td>NaN</td>\n",
       "      <td>NaN</td>\n",
       "      <td>26513.00</td>\n",
       "      <td>18</td>\n",
       "      <td>485975.00</td>\n",
       "      <td>en</td>\n",
       "      <td>0.60</td>\n",
       "      <td>2018-05-01</td>\n",
       "      <td>_EXHIBIT_84xxx_</td>\n",
       "      <td>0.00</td>\n",
       "      <td>1.00</td>\n",
       "      <td>May</td>\n",
       "    </tr>\n",
       "    <tr>\n",
       "      <th>111285</th>\n",
       "      <td>NaN</td>\n",
       "      <td>NaN</td>\n",
       "      <td>_EXHIBIT_84xxx_</td>\n",
       "      <td>NaN</td>\n",
       "      <td>NaN</td>\n",
       "      <td>NaN</td>\n",
       "      <td>NaN</td>\n",
       "      <td>NaN</td>\n",
       "      <td>26513.00</td>\n",
       "      <td>53</td>\n",
       "      <td>485975.00</td>\n",
       "      <td>en</td>\n",
       "      <td>0.60</td>\n",
       "      <td>2018-05-01</td>\n",
       "      <td>_EXHIBIT_84xxx_</td>\n",
       "      <td>0.00</td>\n",
       "      <td>1.00</td>\n",
       "      <td>May</td>\n",
       "    </tr>\n",
       "  </tbody>\n",
       "</table>\n",
       "<p>111286 rows × 18 columns</p>\n",
       "</div>"
      ],
      "text/plain": [
       "         movie_id                    primary_title  \\\n",
       "0       tt0063540                        Sunghursh   \n",
       "1       tt0066787  One Day Before the Rainy Season   \n",
       "2       tt0069049       The Other Side of the Wind   \n",
       "3       tt0069049       The Other Side of the Wind   \n",
       "4       tt0069204                  Sabse Bada Sukh   \n",
       "...           ...                              ...   \n",
       "111281        NaN                              NaN   \n",
       "111282        NaN                              NaN   \n",
       "111283        NaN                              NaN   \n",
       "111284        NaN                              NaN   \n",
       "111285        NaN                              NaN   \n",
       "\n",
       "                    original_title  start_year  runtime_minutes  \\\n",
       "0                        Sunghursh     2013.00           175.00   \n",
       "1                  Ashad Ka Ek Din     2019.00           114.00   \n",
       "2       The Other Side of the Wind     2018.00           122.00   \n",
       "3       The Other Side of the Wind     2018.00           122.00   \n",
       "4                  Sabse Bada Sukh     2018.00              NaN   \n",
       "...                            ...         ...              ...   \n",
       "111281                        Jaws         NaN              NaN   \n",
       "111282       Laboratory Conditions         NaN              NaN   \n",
       "111283       Laboratory Conditions         NaN              NaN   \n",
       "111284             _EXHIBIT_84xxx_         NaN              NaN   \n",
       "111285             _EXHIBIT_84xxx_         NaN              NaN   \n",
       "\n",
       "                    genres  averagerating  numvotes  Unnamed: 0 genre_ids  \\\n",
       "0       Action,Crime,Drama           7.00     77.00         NaN       NaN   \n",
       "1          Biography,Drama           7.20     43.00         NaN       NaN   \n",
       "2                    Drama           6.90   4517.00    24185.00        35   \n",
       "3                    Drama           6.90   4517.00    24185.00        18   \n",
       "4             Comedy,Drama           6.10     13.00         NaN       NaN   \n",
       "...                    ...            ...       ...         ...       ...   \n",
       "111281                 NaN            NaN       NaN    26508.00        16   \n",
       "111282                 NaN            NaN       NaN    26512.00        27   \n",
       "111283                 NaN            NaN       NaN    26512.00        18   \n",
       "111284                 NaN            NaN       NaN    26513.00        18   \n",
       "111285                 NaN            NaN       NaN    26513.00        53   \n",
       "\n",
       "              id original_language  popularity release_date  \\\n",
       "0            NaN               NaN         NaN          NaT   \n",
       "1            NaN               NaN         NaN          NaT   \n",
       "2      299782.00                en        9.80   2018-11-02   \n",
       "3      299782.00                en        9.80   2018-11-02   \n",
       "4            NaN               NaN         NaN          NaT   \n",
       "...          ...               ...         ...          ...   \n",
       "111281 514492.00                en        0.60   2018-05-29   \n",
       "111282 488143.00                en        0.60   2018-10-13   \n",
       "111283 488143.00                en        0.60   2018-10-13   \n",
       "111284 485975.00                en        0.60   2018-05-01   \n",
       "111285 485975.00                en        0.60   2018-05-01   \n",
       "\n",
       "                             title  vote_average  vote_count release_month  \n",
       "0                              NaN           NaN         NaN           NaN  \n",
       "1                              NaN           NaN         NaN           NaN  \n",
       "2       The Other Side of the Wind          7.00       64.00      November  \n",
       "3       The Other Side of the Wind          7.00       64.00      November  \n",
       "4                              NaN           NaN         NaN           NaN  \n",
       "...                            ...           ...         ...           ...  \n",
       "111281                        Jaws          0.00        1.00           May  \n",
       "111282       Laboratory Conditions          0.00        1.00       October  \n",
       "111283       Laboratory Conditions          0.00        1.00       October  \n",
       "111284             _EXHIBIT_84xxx_          0.00        1.00           May  \n",
       "111285             _EXHIBIT_84xxx_          0.00        1.00           May  \n",
       "\n",
       "[111286 rows x 18 columns]"
      ]
     },
     "execution_count": 67,
     "metadata": {},
     "output_type": "execute_result"
    }
   ],
   "source": [
    "merged_data"
   ]
  },
  {
   "cell_type": "code",
   "execution_count": 68,
   "metadata": {},
   "outputs": [
    {
     "data": {
      "text/plain": [
       "movie_id             19592\n",
       "primary_title        19592\n",
       "original_title           0\n",
       "start_year           19592\n",
       "runtime_minutes      27655\n",
       "genres               20448\n",
       "averagerating        19592\n",
       "numvotes             19592\n",
       "Unnamed: 0           58357\n",
       "genre_ids            61033\n",
       "id                   58357\n",
       "original_language    58357\n",
       "popularity           58357\n",
       "release_date         58357\n",
       "title                58357\n",
       "vote_average         58357\n",
       "vote_count           58357\n",
       "release_month        58357\n",
       "dtype: int64"
      ]
     },
     "execution_count": 68,
     "metadata": {},
     "output_type": "execute_result"
    }
   ],
   "source": [
    "merged_data.isnull().sum()"
   ]
  },
  {
   "cell_type": "code",
   "execution_count": 70,
   "metadata": {},
   "outputs": [
    {
     "data": {
      "text/html": [
       "<div>\n",
       "<style scoped>\n",
       "    .dataframe tbody tr th:only-of-type {\n",
       "        vertical-align: middle;\n",
       "    }\n",
       "\n",
       "    .dataframe tbody tr th {\n",
       "        vertical-align: top;\n",
       "    }\n",
       "\n",
       "    .dataframe thead th {\n",
       "        text-align: right;\n",
       "    }\n",
       "</style>\n",
       "<table border=\"1\" class=\"dataframe\">\n",
       "  <thead>\n",
       "    <tr style=\"text-align: right;\">\n",
       "      <th></th>\n",
       "      <th>movie_id</th>\n",
       "      <th>primary_title</th>\n",
       "      <th>original_title</th>\n",
       "      <th>start_year</th>\n",
       "      <th>runtime_minutes</th>\n",
       "      <th>genres</th>\n",
       "      <th>averagerating</th>\n",
       "      <th>numvotes</th>\n",
       "      <th>Unnamed: 0</th>\n",
       "      <th>genre_ids</th>\n",
       "      <th>id</th>\n",
       "      <th>original_language</th>\n",
       "      <th>popularity</th>\n",
       "      <th>release_date</th>\n",
       "      <th>title</th>\n",
       "      <th>vote_average</th>\n",
       "      <th>vote_count</th>\n",
       "      <th>release_month</th>\n",
       "    </tr>\n",
       "  </thead>\n",
       "  <tbody>\n",
       "    <tr>\n",
       "      <th>1</th>\n",
       "      <td>tt0066787</td>\n",
       "      <td>One Day Before the Rainy Season</td>\n",
       "      <td>Ashad Ka Ek Din</td>\n",
       "      <td>2019.00</td>\n",
       "      <td>114.00</td>\n",
       "      <td>Biography,Drama</td>\n",
       "      <td>7.20</td>\n",
       "      <td>43.00</td>\n",
       "      <td>NaN</td>\n",
       "      <td>NaN</td>\n",
       "      <td>NaN</td>\n",
       "      <td>NaN</td>\n",
       "      <td>NaN</td>\n",
       "      <td>NaT</td>\n",
       "      <td>NaN</td>\n",
       "      <td>NaN</td>\n",
       "      <td>NaN</td>\n",
       "      <td>NaN</td>\n",
       "    </tr>\n",
       "    <tr>\n",
       "      <th>3</th>\n",
       "      <td>tt0069049</td>\n",
       "      <td>The Other Side of the Wind</td>\n",
       "      <td>The Other Side of the Wind</td>\n",
       "      <td>2018.00</td>\n",
       "      <td>122.00</td>\n",
       "      <td>Drama</td>\n",
       "      <td>6.90</td>\n",
       "      <td>4517.00</td>\n",
       "      <td>24185.00</td>\n",
       "      <td>18</td>\n",
       "      <td>299782.00</td>\n",
       "      <td>en</td>\n",
       "      <td>9.80</td>\n",
       "      <td>2018-11-02</td>\n",
       "      <td>The Other Side of the Wind</td>\n",
       "      <td>7.00</td>\n",
       "      <td>64.00</td>\n",
       "      <td>November</td>\n",
       "    </tr>\n",
       "    <tr>\n",
       "      <th>4</th>\n",
       "      <td>tt0069204</td>\n",
       "      <td>Sabse Bada Sukh</td>\n",
       "      <td>Sabse Bada Sukh</td>\n",
       "      <td>2018.00</td>\n",
       "      <td>NaN</td>\n",
       "      <td>Comedy,Drama</td>\n",
       "      <td>6.10</td>\n",
       "      <td>13.00</td>\n",
       "      <td>NaN</td>\n",
       "      <td>NaN</td>\n",
       "      <td>NaN</td>\n",
       "      <td>NaN</td>\n",
       "      <td>NaN</td>\n",
       "      <td>NaT</td>\n",
       "      <td>NaN</td>\n",
       "      <td>NaN</td>\n",
       "      <td>NaN</td>\n",
       "      <td>NaN</td>\n",
       "    </tr>\n",
       "    <tr>\n",
       "      <th>5</th>\n",
       "      <td>tt0100275</td>\n",
       "      <td>The Wandering Soap Opera</td>\n",
       "      <td>La Telenovela Errante</td>\n",
       "      <td>2017.00</td>\n",
       "      <td>80.00</td>\n",
       "      <td>Comedy,Drama,Fantasy</td>\n",
       "      <td>6.50</td>\n",
       "      <td>119.00</td>\n",
       "      <td>NaN</td>\n",
       "      <td>NaN</td>\n",
       "      <td>NaN</td>\n",
       "      <td>NaN</td>\n",
       "      <td>NaN</td>\n",
       "      <td>NaT</td>\n",
       "      <td>NaN</td>\n",
       "      <td>NaN</td>\n",
       "      <td>NaN</td>\n",
       "      <td>NaN</td>\n",
       "    </tr>\n",
       "  </tbody>\n",
       "</table>\n",
       "</div>"
      ],
      "text/plain": [
       "    movie_id                    primary_title              original_title  \\\n",
       "1  tt0066787  One Day Before the Rainy Season             Ashad Ka Ek Din   \n",
       "3  tt0069049       The Other Side of the Wind  The Other Side of the Wind   \n",
       "4  tt0069204                  Sabse Bada Sukh             Sabse Bada Sukh   \n",
       "5  tt0100275         The Wandering Soap Opera       La Telenovela Errante   \n",
       "\n",
       "   start_year  runtime_minutes                genres  averagerating  numvotes  \\\n",
       "1     2019.00           114.00       Biography,Drama           7.20     43.00   \n",
       "3     2018.00           122.00                 Drama           6.90   4517.00   \n",
       "4     2018.00              NaN          Comedy,Drama           6.10     13.00   \n",
       "5     2017.00            80.00  Comedy,Drama,Fantasy           6.50    119.00   \n",
       "\n",
       "   Unnamed: 0 genre_ids        id original_language  popularity release_date  \\\n",
       "1         NaN       NaN       NaN               NaN         NaN          NaT   \n",
       "3    24185.00        18 299782.00                en        9.80   2018-11-02   \n",
       "4         NaN       NaN       NaN               NaN         NaN          NaT   \n",
       "5         NaN       NaN       NaN               NaN         NaN          NaT   \n",
       "\n",
       "                        title  vote_average  vote_count release_month  \n",
       "1                         NaN           NaN         NaN           NaN  \n",
       "3  The Other Side of the Wind          7.00       64.00      November  \n",
       "4                         NaN           NaN         NaN           NaN  \n",
       "5                         NaN           NaN         NaN           NaN  "
      ]
     },
     "execution_count": 70,
     "metadata": {},
     "output_type": "execute_result"
    }
   ],
   "source": [
    "merged_data.loc[merged_data.duplicated(subset=['title'])].head(4)"
   ]
  },
  {
   "cell_type": "markdown",
   "metadata": {},
   "source": [
    "## Data plotting for visualization\n",
    "\n",
    "##### Genre plotting"
   ]
  },
  {
   "cell_type": "code",
   "execution_count": 76,
   "metadata": {},
   "outputs": [
    {
     "data": {
      "image/png": "[encoded data removed]",
      "text/plain": [
       "<Figure size 720x432 with 1 Axes>"
      ]
     },
     "metadata": {
      "needs_background": "light"
     },
     "output_type": "display_data"
    }
   ],
   "source": [
    "# set figure size\n",
    "plt.figure(figsize=(10, 6))\n",
    "\n",
    "# plot bar chart\n",
    "IM_movies_review['genres'].value_counts().head(30).plot(kind='bar')\n",
    "\n",
    "# set x and y labels and title\n",
    "plt.xlabel('Genres')\n",
    "plt.ylabel('Count')\n",
    "plt.title('Top 30 Genres in IM Movies Review Dataset')\n",
    "\n",
    "# show the plot\n",
    "plt.show()"
   ]
  },
  {
   "cell_type": "code",
   "execution_count": 79,
   "metadata": {},
   "outputs": [
    {
     "data": {
      "image/png": "[encoded data removed]",
      "text/plain": [
       "<Figure size 864x576 with 1 Axes>"
      ]
     },
     "metadata": {
      "needs_background": "light"
     },
     "output_type": "display_data"
    }
   ],
   "source": [
    "# set figure size\n",
    "plt.figure(figsize=(12, 8))\n",
    "\n",
    "# plot bar chart\n",
    "rt_reviews['genre'].value_counts().head(30).plot(kind='bar')\n",
    "\n",
    "# set x and y labels and title\n",
    "plt.xlabel('Genres')\n",
    "plt.ylabel('Count')\n",
    "plt.title('Top 30 Genres in Rotten tomatoes Review Dataset')\n",
    "\n",
    "# show the plot\n",
    "plt.show()"
   ]
  },
  {
   "cell_type": "code",
   "execution_count": 83,
   "metadata": {},
   "outputs": [
    {
     "data": {
      "image/png": "[encoded data removed]",
      "text/plain": [
       "<Figure size 864x576 with 1 Axes>"
      ]
     },
     "metadata": {
      "needs_background": "light"
     },
     "output_type": "display_data"
    }
   ],
   "source": [
    "# set figure size\n",
    "plt.figure(figsize=(12, 8))\n",
    "\n",
    "\n",
    "# plot the bar chart\n",
    "genre_counts.plot(kind=\"bar\")\n",
    "plt.xticks(rotation=90)\n",
    "plt.xlabel(\"Genres\")\n",
    "plt.ylabel(\"Count\")\n",
    "plt.title(\"Genre Distribution in TMDB Movie Dataset\")\n",
    "plt.show()\n"
   ]
  },
  {
   "cell_type": "markdown",
   "metadata": {},
   "source": [
    "#### Plotting Release months for better visualization"
   ]
  },
  {
   "cell_type": "code",
   "execution_count": 87,
   "metadata": {},
   "outputs": [
    {
     "data": {
      "image/png": "[encoded data removed]",
      "text/plain": [
       "<Figure size 720x432 with 1 Axes>"
      ]
     },
     "metadata": {
      "needs_background": "light"
     },
     "output_type": "display_data"
    }
   ],
   "source": [
    "plt.figure(figsize=(10,6))\n",
    "\n",
    "# ploting the bar chart\n",
    "tmdb_review['release_month'].value_counts().head(30).plot(kind = 'bar')\n",
    "plt.xlabel('Months')\n",
    "plt.ylabel('Counts')\n",
    "plt.title('TMDB Release Months')\n",
    "plt.show()"
   ]
  },
  {
   "cell_type": "markdown",
   "metadata": {},
   "source": [
    "In this dataset, movie release months were fairly evenly distributed throughout the year, with the most releases in October and the least in July.\n"
   ]
  },
  {
   "cell_type": "code",
   "execution_count": 90,
   "metadata": {},
   "outputs": [
    {
     "data": {
      "image/png": "[encoded data removed]",
      "text/plain": [
       "<Figure size 720x432 with 1 Axes>"
      ]
     },
     "metadata": {
      "needs_background": "light"
     },
     "output_type": "display_data"
    }
   ],
   "source": [
    "plt.figure(figsize=(10,6))\n",
    "# ploting the bar chart\n",
    "tn_movie['release_month'].value_counts().plot(kind='bar')\n",
    "plt.xlabel('Months')\n",
    "plt.ylabel('Counts')\n",
    "plt.title('THE NUMBER Release Months')\n",
    "plt.show()"
   ]
  },
  {
   "cell_type": "markdown",
   "metadata": {},
   "source": [
    "In this dataset, movie release months were fairly evenly distributed throughout the year, with the most releases in December and the least in January."
   ]
  },
  {
   "cell_type": "markdown",
   "metadata": {},
   "source": [
    "#### Data visualization on studio\n",
    "I wanted to see which studio has the most watch."
   ]
  },
  {
   "cell_type": "code",
   "execution_count": 91,
   "metadata": {},
   "outputs": [
    {
     "data": {
      "image/png": "[encoded data removed]",
      "text/plain": [
       "<Figure size 720x432 with 1 Axes>"
      ]
     },
     "metadata": {
      "needs_background": "light"
     },
     "output_type": "display_data"
    }
   ],
   "source": [
    "plt.figure(figsize=(10,6))\n",
    "\n",
    "# ploting the bar chart\n",
    "rt_reviews['studio'].value_counts().head(10).plot(kind = 'bar')\n",
    "plt.xlabel('Studio')\n",
    "plt.ylabel('Counts')\n",
    "plt.title('RT STUDIOS')\n",
    "plt.show()"
   ]
  },
  {
   "cell_type": "markdown",
   "metadata": {},
   "source": [
    "In this dataset Universal picture was the most studio that produced the best performing movies"
   ]
  },
  {
   "cell_type": "code",
   "execution_count": 92,
   "metadata": {},
   "outputs": [
    {
     "data": {
      "image/png": "[encoded data removed]",
      "text/plain": [
       "<Figure size 720x432 with 1 Axes>"
      ]
     },
     "metadata": {
      "needs_background": "light"
     },
     "output_type": "display_data"
    }
   ],
   "source": [
    "plt.figure(figsize=(10,6))\n",
    "\n",
    "# ploting the bar chart\n",
    "bom_movie['studio'].value_counts().head(10).plot(kind = 'bar')\n",
    "plt.xlabel('Studio')\n",
    "plt.ylabel('Counts')\n",
    "plt.title('Bom_movie STUDIOS')\n",
    "plt.show()"
   ]
  },
  {
   "cell_type": "code",
   "execution_count": null,
   "metadata": {},
   "outputs": [],
   "source": []
  },
  {
   "cell_type": "markdown",
   "metadata": {},
   "source": [
    "## Recommendations"
   ]
  },
  {
   "cell_type": "markdown",
   "metadata": {},
   "source": [
    "#### Release Month Recommendations\n",
    "\n",
    "From my findings above, the following is my recommendations regarding release month.\n",
    "\n",
    " 1. Release movie between August and December for the the highest sale/watch\n",
    " 2. Release movie on January it has the second biggest wave of sale/watch."
   ]
  },
  {
   "cell_type": "markdown",
   "metadata": {},
   "source": [
    "#### Genre\n",
    "from the above analysis, all three datasets have one thing in common. Drama performed best than all other genres. Followed by comedy then documentaries. These are the areas to focus more on for the new studio to have a competitive grounds to compete with the existing ones."
   ]
  },
  {
   "cell_type": "markdown",
   "metadata": {},
   "source": [
    "#### Runtime \n",
    "From all the above analysis in all datasets, its true and evident that 90 minutes are most preferred from the rest. As an analyst i would recommend taht the new upcoming microsoft studio to embark on 90 minutes timed movies for it to thrive and make good profit "
   ]
  },
  {
   "cell_type": "markdown",
   "metadata": {},
   "source": [
    "#### Studio Recommendations.\n",
    "From the above data analysis I  would recommend that our major concentration should be on Universal pictures, followed by 20th century fox."
   ]
  },
  {
   "cell_type": "markdown",
   "metadata": {},
   "source": [
    "### Conclusions\n",
    "From the above analysis I would highly recomend microsoft to use data to create the new studio with all insight provided which will grately hekp them theri new venture."
   ]
  }
 ],
 "metadata": {
  "kernelspec": {
   "display_name": "Python 3",
   "language": "python",
   "name": "python3"
  },
  "language_info": {
   "codemirror_mode": {
    "name": "ipython",
    "version": 3
   },
   "file_extension": ".py",
   "mimetype": "text/x-python",
   "name": "python",
   "nbconvert_exporter": "python",
   "pygments_lexer": "ipython3",
   "version": "3.7.3"
  }
 },
 "nbformat": 4,
 "nbformat_minor": 2
}
